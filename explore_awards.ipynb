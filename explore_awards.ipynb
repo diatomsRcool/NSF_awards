{
 "cells": [
  {
   "cell_type": "markdown",
   "metadata": {},
   "source": [
    "# Exploring NSF Awards"
   ]
  },
  {
   "cell_type": "markdown",
   "metadata": {},
   "source": [
    "This jupyter notebook looks examines metadata about projects funded by the US National Science Foundation from 2005 to 2017. The data were downloaded from nsf.gov in November of 2017. The focus of this notebook is to see if there are differences in the types of awards before and after the data management plan requirement."
   ]
  },
  {
   "cell_type": "markdown",
   "metadata": {},
   "source": [
    "The code below loads the data in a pandas data frame and assigns data types."
   ]
  },
  {
   "cell_type": "code",
   "execution_count": 28,
   "metadata": {
    "collapsed": false
   },
   "outputs": [
    {
     "name": "stdout",
     "output_type": "stream",
     "text": [
      "22\n",
      "data in list\n",
      "data in numpy array\n",
      "(158767, 25)\n",
      "(158619, 25)\n",
      "(158619, 25)\n",
      "complete\n"
     ]
    }
   ],
   "source": [
    "import pandas as pd\n",
    "import numpy as np\n",
    "import matplotlib as plt\n",
    "\n",
    "data = []\n",
    "\n",
    "f = range(1,74,1)\n",
    "for n in f:\n",
    "    in_file = open('/Users/annethessen/NSF_awards/award_data/' + str(n) + '.txt', 'r')\n",
    "    next(in_file)\n",
    "    for line in in_file:\n",
    "        line.strip('\\n')\n",
    "        row = line.split('\\t')\n",
    "        data.append(row[0:24])\n",
    "print('data in list')\n",
    "arr = np.array(data) \n",
    "print('data in numpy array')\n",
    "labels = ['AwardNumber','Title','NSFOrganization','Program(s)','StartDate','LastAmendmentDate','PrincipalInvestigator','State','Organization','AwardInstrument','ProgramManager','EndDate','AwardedAmountToDate','Co-PIName(s)','PIEmailAddress','OrganizationStreet','OrganizationCity','OrganizationState','OrganizationZip','OrganizationPhone','NSFDirectorate','ProgramElementCode(s)','ProgramReferenceCode(s)','ARRAAmount']\n",
    "df = pd.DataFrame(arr, columns=labels)\n",
    "df['StartDate'] = pd.to_datetime(df['StartDate'], format='%m/%d/%Y')\n",
    "df['LastAmendmentDate'] = pd.to_datetime(df['LastAmendmentDate'], format='%m/%d/%Y')\n",
    "df['EndDate'] = pd.to_datetime(df['EndDate'], format='%m/%d/%Y')\n",
    "df['AwardedAmountToDate'] = df['AwardedAmountToDate'].replace('[\\$,\\)\\(]','',regex=True).astype(float)\n",
    "df['ARRAAmount'] = df['ARRAAmount'].replace('[\\$,\\)\\(]','',regex=True).astype(float)\n",
    "df['year'] = df['StartDate'].dt.year\n",
    "print(df.shape)\n",
    "df = df[df['year'] > 2004]\n",
    "print(df.shape)\n",
    "print('complete')"
   ]
  },
  {
   "cell_type": "markdown",
   "metadata": {},
   "source": [
    "The code below divides the data into two data frames based on the award date. Now we have two data frames, one for awards with a start date before Jan 18 2011 and one for awards with a start date after Jan 18 2011."
   ]
  },
  {
   "cell_type": "code",
   "execution_count": 2,
   "metadata": {
    "collapsed": false
   },
   "outputs": [
    {
     "name": "stdout",
     "output_type": "stream",
     "text": [
      "complete\n"
     ]
    }
   ],
   "source": [
    "pre = df.loc[df['StartDate'] < '01/18/11']\n",
    "#print(pre.head(n=5))\n",
    "post = df.loc[df['StartDate'] > '01/18/11']\n",
    "#print(post.head(n=5))\n",
    "print('complete')"
   ]
  },
  {
   "cell_type": "code",
   "execution_count": 38,
   "metadata": {
    "collapsed": false
   },
   "outputs": [
    {
     "name": "stdout",
     "output_type": "stream",
     "text": [
      "    total_awards  year\n",
      "0   4.939605e+09  2005\n",
      "1   5.478379e+09  2006\n",
      "2   5.030532e+09  2007\n",
      "3   7.068195e+09  2008\n",
      "4   8.016091e+09  2009\n",
      "5   7.340231e+09  2010\n",
      "6   6.632126e+09  2011\n",
      "7   6.127110e+09  2012\n",
      "8   5.650222e+09  2013\n",
      "9   5.644971e+09  2014\n",
      "10  5.147040e+09  2015\n",
      "11  5.379691e+09  2016\n",
      "12  3.761693e+09  2017\n",
      "13  9.036396e+07  2018\n"
     ]
    }
   ],
   "source": [
    "gb = df.groupby(['year'])\n",
    "[gb.get_group(x) for x in gb.groups]\n",
    "#print(gb.groups.keys())\n",
    "total_per_year = {}\n",
    "years = []\n",
    "totals = []\n",
    "for k, gp in gb:\n",
    "    if k == 2005:\n",
    "        gp.to_csv('2005_awards.csv')\n",
    "    #print(k)\n",
    "    #print(gp.shape)\n",
    "    s = gp['AwardedAmountToDate'].sum()\n",
    "    years.append(k)\n",
    "    totals.append(s)\n",
    "total_per_year['year'] = years\n",
    "total_per_year['total_awards'] = totals\n",
    "by_year = pd.DataFrame(total_per_year)\n",
    "print(by_year)"
   ]
  },
  {
   "cell_type": "code",
   "execution_count": null,
   "metadata": {
    "collapsed": false
   },
   "outputs": [],
   "source": []
  }
 ],
 "metadata": {
  "kernelspec": {
   "display_name": "Python 3",
   "language": "python",
   "name": "python3"
  },
  "language_info": {
   "codemirror_mode": {
    "name": "ipython",
    "version": 3
   },
   "file_extension": ".py",
   "mimetype": "text/x-python",
   "name": "python",
   "nbconvert_exporter": "python",
   "pygments_lexer": "ipython3",
   "version": "3.6.0"
  }
 },
 "nbformat": 4,
 "nbformat_minor": 2
}
