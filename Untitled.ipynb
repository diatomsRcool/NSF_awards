{
 "cells": [
  {
   "cell_type": "code",
   "execution_count": 2,
   "metadata": {
    "collapsed": false
   },
   "outputs": [
    {
     "name": "stdout",
     "output_type": "stream",
     "text": [
      "data in list\n",
      "data in numpy array\n",
      "complete\n"
     ]
    }
   ],
   "source": [
    "import pandas as pd\n",
    "import numpy as np\n",
    "\n",
    "data = []\n",
    "\n",
    "f = range(1,74,1)\n",
    "for n in f:\n",
    "    in_file = open('/Users/annethessen/NSF_awards/award_data/' + str(n) + '.txt', 'r')\n",
    "    next(in_file)\n",
    "    for line in in_file:\n",
    "        line.strip('\\n')\n",
    "        row = line.split('\\t')\n",
    "        data.append(row[0:24])\n",
    "print('data in list')\n",
    "arr = np.array(data) #dtype=['U7','U150','U25','U50','M8','M8','U25','U25','U25','U25','U25','M8','f8','U25','U25','U25','U25','U25','U25','U25','U25','U25','U25','f8','U500'])\n",
    "print('data in numpy array')\n",
    "labels = ['AwardNumber','Title','NSFOrganization','Program(s)','StartDate','LastAmendmentDate','PrincipalInvestigator','State','Organization','AwardInstrument','ProgramManager','EndDate','AwardedAmountToDate','Co-PIName(s)','PIEmailAddress','OrganizationStreet','OrganizationCity','OrganizationState','OrganizationZip','OrganizationPhone','NSFDirectorate','ProgramElementCode(s)','ProgramReferenceCode(s)','ARRAAmount']\n",
    "df = pd.DataFrame(arr, columns=labels)\n",
    "print('complete')"
   ]
  }
 ],
 "metadata": {
  "kernelspec": {
   "display_name": "Python 3",
   "language": "python",
   "name": "python3"
  },
  "language_info": {
   "codemirror_mode": {
    "name": "ipython",
    "version": 3
   },
   "file_extension": ".py",
   "mimetype": "text/x-python",
   "name": "python",
   "nbconvert_exporter": "python",
   "pygments_lexer": "ipython3",
   "version": "3.6.0"
  }
 },
 "nbformat": 4,
 "nbformat_minor": 2
}
