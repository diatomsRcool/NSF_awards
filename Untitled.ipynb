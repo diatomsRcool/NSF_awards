{
 "cells": [
  {
   "cell_type": "code",
   "execution_count": 8,
   "metadata": {
    "collapsed": false
   },
   "outputs": [
    {
     "name": "stdout",
     "output_type": "stream",
     "text": [
      "data in list\n",
      "data in numpy array\n",
      "AwardNumber                        object\n",
      "Title                              object\n",
      "NSFOrganization                    object\n",
      "Program(s)                         object\n",
      "StartDate                  datetime64[ns]\n",
      "LastAmendmentDate          datetime64[ns]\n",
      "PrincipalInvestigator              object\n",
      "State                              object\n",
      "Organization                       object\n",
      "AwardInstrument                    object\n",
      "ProgramManager                     object\n",
      "EndDate                    datetime64[ns]\n",
      "AwardedAmountToDate               float64\n",
      "Co-PIName(s)                       object\n",
      "PIEmailAddress                     object\n",
      "OrganizationStreet                 object\n",
      "OrganizationCity                   object\n",
      "OrganizationState                  object\n",
      "OrganizationZip                    object\n",
      "OrganizationPhone                  object\n",
      "NSFDirectorate                     object\n",
      "ProgramElementCode(s)              object\n",
      "ProgramReferenceCode(s)            object\n",
      "ARRAAmount                        float64\n",
      "dtype: object\n"
     ]
    },
    {
     "ename": "NameError",
     "evalue": "name 'post' is not defined",
     "output_type": "error",
     "traceback": [
      "\u001b[0;31m---------------------------------------------------------------------------\u001b[0m",
      "\u001b[0;31mNameError\u001b[0m                                 Traceback (most recent call last)",
      "\u001b[0;32m<ipython-input-8-f728abdc178f>\u001b[0m in \u001b[0;36m<module>\u001b[0;34m()\u001b[0m\n\u001b[1;32m     24\u001b[0m \u001b[0mprint\u001b[0m\u001b[0;34m(\u001b[0m\u001b[0mdf\u001b[0m\u001b[0;34m.\u001b[0m\u001b[0mdtypes\u001b[0m\u001b[0;34m)\u001b[0m\u001b[0;34m\u001b[0m\u001b[0m\n\u001b[1;32m     25\u001b[0m \u001b[0mpre\u001b[0m \u001b[0;34m=\u001b[0m \u001b[0mdf\u001b[0m\u001b[0;34m\u001b[0m\u001b[0m\n\u001b[0;32m---> 26\u001b[0;31m \u001b[0mpost\u001b[0m\u001b[0;34m\u001b[0m\u001b[0m\n\u001b[0m\u001b[1;32m     27\u001b[0m \u001b[0mprint\u001b[0m\u001b[0;34m(\u001b[0m\u001b[0;34m'complete'\u001b[0m\u001b[0;34m)\u001b[0m\u001b[0;34m\u001b[0m\u001b[0m\n",
      "\u001b[0;31mNameError\u001b[0m: name 'post' is not defined"
     ]
    }
   ],
   "source": [
    "import pandas as pd\n",
    "import numpy as np\n",
    "\n",
    "data = []\n",
    "\n",
    "f = range(1,74,1)\n",
    "for n in f:\n",
    "    in_file = open('/Users/annethessen/NSF_awards/award_data/' + str(n) + '.txt', 'r')\n",
    "    next(in_file)\n",
    "    for line in in_file:\n",
    "        line.strip('\\n')\n",
    "        row = line.split('\\t')\n",
    "        data.append(row[0:24])\n",
    "print('data in list')\n",
    "arr = np.array(data) #dtype=['U7','U150','U25','U50','M8','M8','U25','U25','U25','U25','U25','M8','f8','U25','U25','U25','U25','U25','U25','U25','U25','U25','U25','f8','U500'])\n",
    "print('data in numpy array')\n",
    "labels = ['AwardNumber','Title','NSFOrganization','Program(s)','StartDate','LastAmendmentDate','PrincipalInvestigator','State','Organization','AwardInstrument','ProgramManager','EndDate','AwardedAmountToDate','Co-PIName(s)','PIEmailAddress','OrganizationStreet','OrganizationCity','OrganizationState','OrganizationZip','OrganizationPhone','NSFDirectorate','ProgramElementCode(s)','ProgramReferenceCode(s)','ARRAAmount']\n",
    "df = pd.DataFrame(arr, columns=labels)\n",
    "df['StartDate'] = pd.to_datetime(df['StartDate'], format='%m/%d/%Y')\n",
    "df['LastAmendmentDate'] = pd.to_datetime(df['LastAmendmentDate'], format='%m/%d/%Y')\n",
    "df['EndDate'] = pd.to_datetime(df['EndDate'], format='%m/%d/%Y')\n",
    "df['AwardedAmountToDate'] = df['AwardedAmountToDate'].replace('[\\$,\\)\\(]','',regex=True).astype(float)\n",
    "df['ARRAAmount'] = df['ARRAAmount'].replace('[\\$,\\)\\(]','',regex=True).astype(float)\n",
    "print(df.dtypes)\n",
    "pre = df\n",
    "post\n",
    "print('complete')"
   ]
  }
 ],
 "metadata": {
  "kernelspec": {
   "display_name": "Python 3",
   "language": "python",
   "name": "python3"
  },
  "language_info": {
   "codemirror_mode": {
    "name": "ipython",
    "version": 3
   },
   "file_extension": ".py",
   "mimetype": "text/x-python",
   "name": "python",
   "nbconvert_exporter": "python",
   "pygments_lexer": "ipython3",
   "version": "3.6.0"
  }
 },
 "nbformat": 4,
 "nbformat_minor": 2
}
